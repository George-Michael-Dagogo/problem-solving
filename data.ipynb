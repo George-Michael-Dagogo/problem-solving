{
 "cells": [
  {
   "cell_type": "markdown",
   "metadata": {},
   "source": [
    "# *args **kwargs speed test"
   ]
  },
  {
   "cell_type": "code",
   "execution_count": 30,
   "metadata": {},
   "outputs": [
    {
     "data": {
      "text/plain": [
       "({'Google': 8, 'Microsoft': 7, 'Apple': 8.5, 'Dangote': 9.5}, dict)"
      ]
     },
     "execution_count": 30,
     "metadata": {},
     "output_type": "execute_result"
    }
   ],
   "source": [
    "def calculate(*numb):\n",
    "    # *args for variable number of arguments\n",
    "    total = 0\n",
    "    for num in numb:\n",
    "        total += num\n",
    "    return total \n",
    "def word(**eng):\n",
    "   # **kwargs for variable number of keyword arguments\n",
    "    return(eng, type(eng))\n",
    "calculate(2,5,6,7,3)\n",
    "word(Google=8, Microsoft=7, Apple=8.5, Dangote=9.5)"
   ]
  },
  {
   "cell_type": "code",
   "execution_count": 28,
   "metadata": {},
   "outputs": [
    {
     "data": {
      "text/plain": [
       "[5.850664699999925,\n",
       " 6.60922759999994,\n",
       " 6.441441299999951,\n",
       " 7.047140799999852,\n",
       " 7.127465399999892]"
      ]
     },
     "execution_count": 28,
     "metadata": {},
     "output_type": "execute_result"
    }
   ],
   "source": [
    "import timeit\n",
    "timeit.repeat(\"for x in range(100): calculate(2,5,6,7,3)\", \"from __main__ import calculate\", number=100000)"
   ]
  },
  {
   "cell_type": "code",
   "execution_count": 29,
   "metadata": {},
   "outputs": [
    {
     "data": {
      "text/plain": [
       "[5.307747700000164,\n",
       " 5.3621579999999085,\n",
       " 5.217935800000305,\n",
       " 5.128441400000156,\n",
       " 5.509125200000199]"
      ]
     },
     "execution_count": 29,
     "metadata": {},
     "output_type": "execute_result"
    }
   ],
   "source": [
    "timeit.repeat(\"for x in range(100): word(Google=8, Microsoft=7, Apple=8.5, Dangote=9.5)\", \"from __main__ import word\", number=100000)"
   ]
  },
  {
   "cell_type": "markdown",
   "metadata": {},
   "source": [
    "# Python coding vs pythonic coding "
   ]
  },
  {
   "cell_type": "code",
   "execution_count": 1,
   "metadata": {},
   "outputs": [],
   "source": [
    "import timeit"
   ]
  },
  {
   "cell_type": "code",
   "execution_count": 2,
   "metadata": {},
   "outputs": [
    {
     "name": "stdout",
     "output_type": "stream",
     "text": [
      "3.5 µs ± 463 ns per loop (mean ± std. dev. of 7 runs, 100000 loops each)\n"
     ]
    }
   ],
   "source": [
    "%%timeit\n",
    "#Normal Python loop\n",
    "a = [2,3,4,5,6,3,5,6,4,2,6,7,8,9,22,33,44,55]\n",
    "b = []\n",
    "for i in a:\n",
    "    if i % 2 != 1:\n",
    "        b.append(i)\n",
    "    "
   ]
  },
  {
   "cell_type": "code",
   "execution_count": 1,
   "metadata": {},
   "outputs": [
    {
     "name": "stdout",
     "output_type": "stream",
     "text": [
      "2.85 µs ± 561 ns per loop (mean ± std. dev. of 7 runs, 100000 loops each)\n"
     ]
    }
   ],
   "source": [
    "%%timeit\n",
    "#Pythonic loop\n",
    "a = [2,3,4,5,6,3,5,6,4,2,6,7,8,9,22,33,44,55]\n",
    "b = [i for i in a if i % 2 != 1]"
   ]
  },
  {
   "cell_type": "markdown",
   "metadata": {},
   "source": [
    "## Attempt at wrapping my head around why a function should be nested\n",
    "## and how its different from a class"
   ]
  },
  {
   "cell_type": "code",
   "execution_count": 7,
   "metadata": {},
   "outputs": [],
   "source": [
    "def take_odd_even(*numbers):\n",
    "    #Google docstring format\n",
    "    \"\"\"Gets and seperates a set of integars into odd and even\n",
    "\n",
    "    Args:\n",
    "        *numbers(int): set of integars\n",
    "        *args: Variable length argument list.\n",
    "\n",
    "    Returns: sum_odd_even() function   \n",
    "    \"\"\"\n",
    "    odd = []\n",
    "    even = []\n",
    "    for i in numbers:\n",
    "        if i % 2 != 1:\n",
    "            even.append(i)\n",
    "        elif i % 2 == 1:\n",
    "            odd.append(i)\n",
    "    def sum_odd_even():\n",
    "        sum_odd = sum(odd)\n",
    "        sum_even = sum(even)\n",
    "        return sum_odd/sum_even\n",
    "    return sum_odd_even()\n",
    "        "
   ]
  },
  {
   "cell_type": "code",
   "execution_count": 8,
   "metadata": {},
   "outputs": [
    {
     "data": {
      "text/plain": [
       "1.0"
      ]
     },
     "execution_count": 8,
     "metadata": {},
     "output_type": "execute_result"
    }
   ],
   "source": [
    "take_odd_even(2,3,4,5,6,7,8,9,7,5,22,2,3,422,3,443,22,3)"
   ]
  },
  {
   "cell_type": "code",
   "execution_count": null,
   "metadata": {},
   "outputs": [],
   "source": []
  }
 ],
 "metadata": {
  "kernelspec": {
   "display_name": "Python 3",
   "language": "python",
   "name": "python3"
  },
  "language_info": {
   "codemirror_mode": {
    "name": "ipython",
    "version": 3
   },
   "file_extension": ".py",
   "mimetype": "text/x-python",
   "name": "python",
   "nbconvert_exporter": "python",
   "pygments_lexer": "ipython3",
   "version": "3.7.6"
  }
 },
 "nbformat": 4,
 "nbformat_minor": 4
}
