{
 "cells": [
  {
   "cell_type": "markdown",
   "metadata": {},
   "source": [
    "# *args **kwargs speed test"
   ]
  },
  {
   "cell_type": "code",
   "execution_count": 30,
   "metadata": {},
   "outputs": [
    {
     "data": {
      "text/plain": [
       "({'Google': 8, 'Microsoft': 7, 'Apple': 8.5, 'Dangote': 9.5}, dict)"
      ]
     },
     "execution_count": 30,
     "metadata": {},
     "output_type": "execute_result"
    }
   ],
   "source": [
    "def calculate(*numb):\n",
    "    # *args for variable number of arguments\n",
    "    total = 0\n",
    "    for num in numb:\n",
    "        total += num\n",
    "    return total \n",
    "def word(**eng):\n",
    "   # **kwargs for variable number of keyword arguments\n",
    "    return(eng, type(eng))\n",
    "calculate(2,5,6,7,3)\n",
    "word(Google=8, Microsoft=7, Apple=8.5, Dangote=9.5)"
   ]
  },
  {
   "cell_type": "code",
   "execution_count": 28,
   "metadata": {},
   "outputs": [
    {
     "data": {
      "text/plain": [
       "[5.850664699999925,\n",
       " 6.60922759999994,\n",
       " 6.441441299999951,\n",
       " 7.047140799999852,\n",
       " 7.127465399999892]"
      ]
     },
     "execution_count": 28,
     "metadata": {},
     "output_type": "execute_result"
    }
   ],
   "source": [
    "import timeit\n",
    "timeit.repeat(\"for x in range(100): calculate(2,5,6,7,3)\", \"from __main__ import calculate\", number=100000)"
   ]
  },
  {
   "cell_type": "code",
   "execution_count": 29,
   "metadata": {},
   "outputs": [
    {
     "data": {
      "text/plain": [
       "[5.307747700000164,\n",
       " 5.3621579999999085,\n",
       " 5.217935800000305,\n",
       " 5.128441400000156,\n",
       " 5.509125200000199]"
      ]
     },
     "execution_count": 29,
     "metadata": {},
     "output_type": "execute_result"
    }
   ],
   "source": [
    "timeit.repeat(\"for x in range(100): word(Google=8, Microsoft=7, Apple=8.5, Dangote=9.5)\", \"from __main__ import word\", number=100000)"
   ]
  },
  {
   "cell_type": "code",
   "execution_count": null,
   "metadata": {},
   "outputs": [],
   "source": []
  }
 ],
 "metadata": {
  "kernelspec": {
   "display_name": "Python 3",
   "language": "python",
   "name": "python3"
  },
  "language_info": {
   "codemirror_mode": {
    "name": "ipython",
    "version": 3
   },
   "file_extension": ".py",
   "mimetype": "text/x-python",
   "name": "python",
   "nbconvert_exporter": "python",
   "pygments_lexer": "ipython3",
   "version": "3.7.6"
  }
 },
 "nbformat": 4,
 "nbformat_minor": 4
}
