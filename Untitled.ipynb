{
 "cells": [
  {
   "cell_type": "code",
   "execution_count": 30,
   "metadata": {
    "scrolled": true
   },
   "outputs": [
    {
     "name": "stdout",
     "output_type": "stream",
     "text": [
      "Collecting fake-useragent\n",
      "  Downloading fake_useragent-0.1.14-py3-none-any.whl (13 kB)\n",
      "Installing collected packages: fake-useragent\n",
      "Successfully installed fake-useragent-0.1.14\n"
     ]
    }
   ],
   "source": [
    "!pip install fake-useragent"
   ]
  },
  {
   "cell_type": "code",
   "execution_count": 23,
   "metadata": {},
   "outputs": [
    {
     "ename": "SyntaxError",
     "evalue": "invalid syntax (<ipython-input-23-e2e10c35fcb4>, line 1)",
     "output_type": "error",
     "traceback": [
      "\u001b[1;36m  File \u001b[1;32m\"<ipython-input-23-e2e10c35fcb4>\"\u001b[1;36m, line \u001b[1;32m1\u001b[0m\n\u001b[1;33m    <label class=\"rc-anchor-center-item rc-anchor-checkbox-label\" aria-hidden=\"true\" role=\"presentation\" id=\"recaptcha-anchor-label\"><span aria-live=\"polite\" aria-labelledby=\"recaptcha-accessible-status\"></span>I'm not a robot</label>\u001b[0m\n\u001b[1;37m    ^\u001b[0m\n\u001b[1;31mSyntaxError\u001b[0m\u001b[1;31m:\u001b[0m invalid syntax\n"
     ]
    }
   ],
   "source": [
    "<input class=\"btn btn-success pull-right\" type=\"submit\" value=\"DISPLAY REGISTER\">"
   ]
  },
  {
   "cell_type": "code",
   "execution_count": 56,
   "metadata": {},
   "outputs": [],
   "source": [
    "#driver.get(\"https://cvr.inecnigeria.org/Home/start\")\n",
    "#login = driver.find_element_by_xpath(\"//input\").send_keys(USERNAME)\n",
    "#password = driver.find_element_by_xpath(\"//input[@type='password']\").send_keys(PASSWORD)\n",
    "#submit = driver.find_element_by_xpath(\"//input[@value='login']\").click()\n",
    "from selenium.webdriver import Chrome\n",
    "from selenium.webdriver.support.ui import Select\n",
    "from selenium.webdriver.support.ui import WebDriverWait\n",
    "from selenium.webdriver.common.by import By\n",
    "from selenium.webdriver.chrome.options import Options\n",
    "from selenium.webdriver.support import expected_conditions as EC\n",
    "from fake_useragent import UserAgent\n",
    "import time\n",
    "\n",
    "options = Options()\n",
    "ua = UserAgent()\n",
    "userAgent = ua.random\n",
    "#print(userAgent)\n",
    "options.add_argument(f'user-agent={userAgent}')\n",
    "\n",
    "driver = Chrome('C:/Users/HP/Downloads/inec_scum/chromedriver.exe')\n",
    "driver.get(\"https://cvr.inecnigeria.org/Home/start\")\n",
    "driver.implicitly_wait(20)\n",
    "driver.find_element_by_xpath(\"\"\"//*[@id=\"LoginEmail\"]\"\"\").send_keys('insert your gmail')\n",
    "driver.find_element_by_xpath(\"\"\"//*[@id=\"LoginPassword\"]\"\"\").send_keys('insert your password')\n",
    "driver.find_element_by_xpath(\"\"\"//*[@value=\"Log in\"]\"\"\").click()\n",
    "\n",
    "driver.get(\"https://cvr.inecnigeria.org/VotersRegister\")\n",
    "driver.implicitly_wait(6)\n",
    "select1 = Select(driver.find_element_by_id('VoterRegisterStateId'))\n",
    "select1.select_by_value('1')\n",
    "select2 = Select(driver.find_element_by_id('VoterRegisterLocalGovernmentId'))\n",
    "select2.select_by_value('1')\n",
    "select3 = Select(driver.find_element_by_id('VoterRegisterRegistrationAreaId'))\n",
    "select3.select_by_value('1')\n",
    "select4 = Select(driver.find_element_by_id('VoterRegisterPollingUnitId'))\n",
    "select4.select_by_value('1')\n",
    "#WebDriverWait(driver, 20).until(EC.frame_to_be_available_and_switch_to_it((By.XPATH,\"//iframe[@title='reCAPTCHA']\")))\n",
    "#W = WebDriverWait(driver, 20).until(EC.element_to_be_clickable((By.CSS_SELECTOR, \"div.recaptcha-checkbox-border\")))\n",
    "#W.click()\n",
    "#driver.implicitly_wait(10)\n",
    "\n",
    "#WebDriverWait(driver, 20).until(EC.element_to_be_clickable((By.XPATH, \"\"\"//*[@value=\"DISPLAY REGISTER\"]\"\"\"))).click()\n",
    "\n",
    "s = driver.find_element_by_xpath(\"\"\"//*[@value=\"DISPLAY REGISTER\"]\"\"\")\n",
    "s.click()\n",
    "#driver.get(\"https://cvr.inecnigeria.org/voters_register/index\")\n",
    "#element = driver.find_element_by_class_name('voter-name')\n",
    "#print(element.text)\n",
    "#//*[@id=\"VoterRegisterIndexForm\"]/div[7]\n",
    "#https://cvr.inecnigeria.org/VotersRegister\n",
    "driver.quit()"
   ]
  },
  {
   "cell_type": "code",
   "execution_count": 37,
   "metadata": {},
   "outputs": [
    {
     "name": "stdout",
     "output_type": "stream",
     "text": [
      "2\n",
      "3\n",
      "4\n",
      "5\n",
      "6\n",
      "7\n",
      "8\n",
      "9\n"
     ]
    }
   ],
   "source": [
    "s = [1,2,3,4,5,6,7,8]\n",
    "def add(a):\n",
    "    print(a+1)\n",
    "\n",
    "for i in s:\n",
    "    add(i)"
   ]
  },
  {
   "cell_type": "code",
   "execution_count": 45,
   "metadata": {},
   "outputs": [
    {
     "ename": "NameError",
     "evalue": "name 'download_dir' is not defined",
     "output_type": "error",
     "traceback": [
      "\u001b[1;31m---------------------------------------------------------------------------\u001b[0m",
      "\u001b[1;31mNameError\u001b[0m                                 Traceback (most recent call last)",
      "\u001b[1;32m<ipython-input-45-de8f4ae7472b>\u001b[0m in \u001b[0;36m<module>\u001b[1;34m\u001b[0m\n\u001b[0;32m     11\u001b[0m \u001b[1;33m\u001b[0m\u001b[0m\n\u001b[0;32m     12\u001b[0m \u001b[0moptions\u001b[0m \u001b[1;33m=\u001b[0m \u001b[0mwebdriver\u001b[0m\u001b[1;33m.\u001b[0m\u001b[0mChromeOptions\u001b[0m\u001b[1;33m(\u001b[0m\u001b[1;33m)\u001b[0m\u001b[1;33m\u001b[0m\u001b[1;33m\u001b[0m\u001b[0m\n\u001b[1;32m---> 13\u001b[1;33m \u001b[0mprefs\u001b[0m \u001b[1;33m=\u001b[0m \u001b[1;33m{\u001b[0m\u001b[1;34m\"download.default_directory\"\u001b[0m\u001b[1;33m:\u001b[0m \u001b[0mdownload_dir\u001b[0m\u001b[1;33m}\u001b[0m\u001b[1;33m\u001b[0m\u001b[1;33m\u001b[0m\u001b[0m\n\u001b[0m\u001b[0;32m     14\u001b[0m \u001b[0moptions\u001b[0m\u001b[1;33m.\u001b[0m\u001b[0madd_experimental_option\u001b[0m\u001b[1;33m(\u001b[0m\u001b[1;34m\"prefs\"\u001b[0m\u001b[1;33m,\u001b[0m \u001b[0mprefs\u001b[0m\u001b[1;33m)\u001b[0m\u001b[1;33m\u001b[0m\u001b[1;33m\u001b[0m\u001b[0m\n\u001b[0;32m     15\u001b[0m \u001b[0moptions\u001b[0m\u001b[1;33m.\u001b[0m\u001b[0madd_argument\u001b[0m\u001b[1;33m(\u001b[0m\u001b[1;34m\"--no-sandbox\"\u001b[0m\u001b[1;33m)\u001b[0m\u001b[1;33m\u001b[0m\u001b[1;33m\u001b[0m\u001b[0m\n",
      "\u001b[1;31mNameError\u001b[0m: name 'download_dir' is not defined"
     ]
    }
   ],
   "source": [
    "from selenium import webdriver\n",
    "from selenium.webdriver.support.select import Select\n",
    "from selenium.common.exceptions import SessionNotCreatedException\n",
    "from selenium.webdriver import Chrome\n",
    "from selenium.webdriver.support.ui import Select\n",
    "from selenium.webdriver.support.ui import WebDriverWait\n",
    "from selenium.webdriver.common.by import By\n",
    "from selenium.webdriver.chrome.options import Options\n",
    "from selenium.webdriver.support import expected_conditions as EC\n",
    "from fake_useragent import UserAgent\n",
    "\n",
    "options = webdriver.ChromeOptions()\n",
    "prefs = {\"download.default_directory\": download_dir}\n",
    "options.add_experimental_option(\"prefs\", prefs)\n",
    "options.add_argument(\"--no-sandbox\")\n",
    "    \n",
    "driver = webdriver.Chrome(\"/usr/bin/chromedriver\", chrome_options = options)\n",
    "driver.get(\"https://www.google.com/recaptcha/api2/demo\")\n",
    "\n",
    "driver.maximize_window()\n",
    "price = driver.find_element_by_xpath(\"//div[@class='g-recaptcha']\")\n",
    "price_content = price.get_attribute('innerHTML')\n",
    "start = str(price_content).find(\";k=\")+len(\";k=\")\n",
    "end = str(price_content).find(\"&amp;co\")\n",
    "driver.implicitly_wait(20)\n",
    "driver.execute_script(\"document.getElementById('g-recaptcha-response').style.display = '';\")\n",
    "recaptcha_text_area = driver.find_element_by_id(\"g-recaptcha-response\")\n",
    "    \n",
    "recaptcha_text_area.clear()\n",
    "recaptcha_text_area.send_keys(price_content[start:end])"
   ]
  },
  {
   "cell_type": "code",
   "execution_count": null,
   "metadata": {},
   "outputs": [],
   "source": []
  }
 ],
 "metadata": {
  "kernelspec": {
   "display_name": "Python 3",
   "language": "python",
   "name": "python3"
  },
  "language_info": {
   "codemirror_mode": {
    "name": "ipython",
    "version": 3
   },
   "file_extension": ".py",
   "mimetype": "text/x-python",
   "name": "python",
   "nbconvert_exporter": "python",
   "pygments_lexer": "ipython3",
   "version": "3.7.6"
  }
 },
 "nbformat": 4,
 "nbformat_minor": 4
}
