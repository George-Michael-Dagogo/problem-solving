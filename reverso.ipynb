{
 "cells": [
  {
   "cell_type": "code",
   "execution_count": null,
   "metadata": {},
   "outputs": [],
   "source": []
  },
  {
   "cell_type": "code",
   "execution_count": 52,
   "metadata": {},
   "outputs": [],
   "source": [
    "import pandas as pd\n",
    "def reverso(a):\n",
    "    df  = pd.read_csv(a)\n",
    "    mf = df.dropna()\n",
    "    mf = pd.DataFrame(mf.sort_values(['DATE'], ascending=[True]).to_numpy(), index=mf.index, columns=mf.columns)\n",
    "    mf.to_csv(a[:-4] + 'new.csv', header=True, index=False)"
   ]
  },
  {
   "cell_type": "code",
   "execution_count": 54,
   "metadata": {},
   "outputs": [
    {
     "name": "stdout",
     "output_type": "stream",
     "text": [
      "guy i be beast\n",
      "guy i be beast\n",
      "guy i be beast\n"
     ]
    }
   ],
   "source": [
    "b = ('US_FOMC_Rates.csv','US_ISM_Manufacturing_PMI.csv','US_CPI.csv')\n",
    "for i in b:\n",
    "    reverso(i)\n",
    "    print('guy i be beast')"
   ]
  },
  {
   "cell_type": "code",
   "execution_count": null,
   "metadata": {},
   "outputs": [],
   "source": []
  }
 ],
 "metadata": {
  "kernelspec": {
   "display_name": "Python 3",
   "language": "python",
   "name": "python3"
  },
  "language_info": {
   "codemirror_mode": {
    "name": "ipython",
    "version": 3
   },
   "file_extension": ".py",
   "mimetype": "text/x-python",
   "name": "python",
   "nbconvert_exporter": "python",
   "pygments_lexer": "ipython3",
   "version": "3.7.6"
  }
 },
 "nbformat": 4,
 "nbformat_minor": 4
}
