{
 "cells": [
  {
   "cell_type": "code",
   "execution_count": 56,
   "metadata": {},
   "outputs": [],
   "source": [
    "#driver.get(\"https://cvr.inecnigeria.org/Home/start\")\n",
    "#login = driver.find_element_by_xpath(\"//input\").send_keys(USERNAME)\n",
    "#password = driver.find_element_by_xpath(\"//input[@type='password']\").send_keys(PASSWORD)\n",
    "#submit = driver.find_element_by_xpath(\"//input[@value='login']\").click()\n",
    "from selenium.webdriver import Chrome\n",
    "from selenium.webdriver.support.ui import Select\n",
    "from selenium.webdriver.support.ui import WebDriverWait\n",
    "from selenium.webdriver.common.by import By\n",
    "from selenium.webdriver.chrome.options import Options\n",
    "from selenium.webdriver.support import expected_conditions as EC\n",
    "from fake_useragent import UserAgent\n",
    "import time\n",
    "\n",
    "options = Options()\n",
    "ua = UserAgent()\n",
    "userAgent = ua.random\n",
    "#print(userAgent)\n",
    "options.add_argument(f'user-agent={userAgent}')\n",
    "\n",
    "driver = Chrome('C:/Users/HP/Downloads/inec_scum/chromedriver.exe')\n",
    "driver.get(\"https://cvr.inecnigeria.org/Home/start\")\n",
    "driver.implicitly_wait(20)\n",
    "driver.find_element_by_xpath(\"\"\"//*[@id=\"LoginEmail\"]\"\"\").send_keys('')\n",
    "driver.find_element_by_xpath(\"\"\"//*[@id=\"LoginPassword\"]\"\"\").send_keys('')\n",
    "driver.find_element_by_xpath(\"\"\"//*[@value=\"Log in\"]\"\"\").click()\n",
    "\n",
    "driver.get(\"https://cvr.inecnigeria.org/VotersRegister\")\n",
    "driver.implicitly_wait(6)\n",
    "select1 = Select(driver.find_element_by_id('VoterRegisterStateId'))\n",
    "select1.select_by_value('1')\n",
    "select2 = Select(driver.find_element_by_id('VoterRegisterLocalGovernmentId'))\n",
    "select2.select_by_value('1')\n",
    "select3 = Select(driver.find_element_by_id('VoterRegisterRegistrationAreaId'))\n",
    "select3.select_by_value('1')\n",
    "select4 = Select(driver.find_element_by_id('VoterRegisterPollingUnitId'))\n",
    "select4.select_by_value('1')\n",
    "WebDriverWait(driver, 20).until(EC.frame_to_be_available_and_switch_to_it((By.XPATH,\"//iframe[@title='reCAPTCHA']\")))\n",
    "ele = WebDriverWait(driver, 20).until(EC.element_to_be_clickable((By.CSS_SELECTOR, \"div.recaptcha-checkbox-border\")))\n",
    "ele.click()\n",
    "driver.implicitly_wait(10)\n",
    "\n",
    "#WebDriverWait(driver, 20).until(EC.element_to_be_clickable((By.XPATH, \"\"\"//*[@value=\"DISPLAY REGISTER\"]\"\"\"))).click()\n",
    "\n",
    "sle = driver.find_element_by_xpath(\"\"\"//*[@value=\"DISPLAY REGISTER\"]\"\"\")\n",
    "sle.click()\n",
    "#driver.get(\"https://cvr.inecnigeria.org/voters_register/index\")\n",
    "#element = driver.find_element_by_class_name('voter-name')\n",
    "#print(element.text)\n",
    "#//*[@id=\"VoterRegisterIndexForm\"]/div[7]\n",
    "#https://cvr.inecnigeria.org/VotersRegister\n",
    "driver.quit()"
   ]
  },
  {
   "cell_type": "code",
   "execution_count": 37,
   "metadata": {},
   "outputs": [
    {
     "name": "stdout",
     "output_type": "stream",
     "text": [
      "2\n",
      "3\n",
      "4\n",
      "5\n",
      "6\n",
      "7\n",
      "8\n",
      "9\n"
     ]
    }
   ],
   "source": [
    "s = [1,2,3,4,5,6,7,8]\n",
    "def add(a):\n",
    "    print(a+1)\n",
    "\n",
    "for i in s:\n",
    "    add(i)"
   ]
  },
  {
   "cell_type": "code",
   "execution_count": null,
   "metadata": {},
   "outputs": [],
   "source": []
  }
 ],
 "metadata": {
  "kernelspec": {
   "display_name": "Python 3",
   "language": "python",
   "name": "python3"
  },
  "language_info": {
   "codemirror_mode": {
    "name": "ipython",
    "version": 3
   },
   "file_extension": ".py",
   "mimetype": "text/x-python",
   "name": "python",
   "nbconvert_exporter": "python",
   "pygments_lexer": "ipython3",
   "version": "3.7.6"
  }
 },
 "nbformat": 4,
 "nbformat_minor": 4
}
